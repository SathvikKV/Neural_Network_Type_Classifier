{
 "cells": [
  {
   "cell_type": "markdown",
   "id": "db660e47-7d72-4d62-893d-a5284a528854",
   "metadata": {},
   "source": [
    "# Neural Network Type Classifier on the TMNIST Alphabet Dataset"
   ]
  },
  {
   "cell_type": "markdown",
   "id": "cf9e7b62-aec7-4913-b6f7-86624cab2098",
   "metadata": {},
   "source": [
    "![Neural Network](img/nna.PNG)\n"
   ]
  },
  {
   "cell_type": "markdown",
   "id": "e6665e51-43ac-44f1-be36-5761d80ed693",
   "metadata": {},
   "source": [
    "### Author: Sathvik Vadavatha\n",
    "### NUID: 00244505\n",
    "### Date: 3/22/2025"
   ]
  },
  {
   "cell_type": "markdown",
   "id": "33c43516-7d45-4a68-8b6d-93ce6d52b9f8",
   "metadata": {},
   "source": [
    "# Abstract"
   ]
  },
  {
   "cell_type": "markdown",
   "id": "e8369ab6-f9dc-483f-9658-4593171edcf7",
   "metadata": {},
   "source": [
    "### Abstract\n",
    "\n",
    "Handwritten character recognition is a fundamental task in computer vision, with applications in Optical Character Recognition (OCR), automated document processing, and assistive technologies. The **Typography MNIST (TMNIST) Alphabet dataset** is an extension of the traditional MNIST dataset, containing 94 different characters, including uppercase and lowercase alphabets, digits, and special symbols. Unlike standard MNIST, TMNIST presents an additional challenge due to a larger character set and varying font styles, making it an excellent benchmark for evaluating neural network performance in text classification.\n",
    "\n",
    "This project aims to develop a deep learning model capable of accurately classifying characters from the **TMNIST Alphabet dataset** using a **Convolutional Neural Network (CNN)**. The CNN architecture is designed to leverage **convolutional layers for feature extraction**, **batch normalization for stability**, and **dropout layers to prevent overfitting**. The dataset is preprocessed by normalizing pixel values and encoding character labels using one-hot encoding. The data is then split into training and testing sets to evaluate the model’s performance.\n",
    "\n",
    "We employ **Adam optimization and categorical cross-entropy loss** to train the network and monitor its accuracy over multiple epochs. The model is evaluated based on **classification accuracy**, with a goal of achieving at least **90% accuracy** to meet the assignment criteria. Training history plots for accuracy and loss are included to analyze model convergence.\n",
    "\n",
    "This notebook serves as a **comprehensive tutorial** on applying deep learning techniques for character classification, with explanations of data preprocessing, model design, and training strategies. The final trained model can be further optimized and extended for applications in OCR systems and real-world text recognition tasks.\n"
   ]
  },
  {
   "cell_type": "markdown",
   "id": "958754bb-9206-4bbb-b509-9353511de2bd",
   "metadata": {},
   "source": [
    "---"
   ]
  },
  {
   "cell_type": "markdown",
   "id": "8678bd2d-d0d3-46b8-8fb6-a5e19c1c222c",
   "metadata": {},
   "source": [
    "# Introduction to TMNIST Dataset"
   ]
  },
  {
   "cell_type": "markdown",
   "id": "64cf3bc4-e4e2-4bf4-ae5a-36f10b884a40",
   "metadata": {},
   "source": [
    "### Introduction to the TMNIST Alphabet Dataset\n",
    "\n",
    "The **Typography MNIST (TMNIST) Alphabet dataset** is a collection of handwritten character images designed to extend the standard MNIST dataset. Unlike MNIST, which consists of only 10 digits (0-9), TMNIST contains **94 different characters**, including:\n",
    "\n",
    "- **Digits:** 0-9\n",
    "- **Lowercase letters:** a-z\n",
    "- **Uppercase letters:** A-Z\n",
    "- **Special symbols:** !, @, #, $, %, &, etc.\n",
    "\n",
    "This dataset is particularly useful for OCR (Optical Character Recognition) tasks, enabling neural networks to classify a diverse set of alphanumeric and special characters across different font styles. The dataset comprises over **281,000 images**, making it a rich dataset for training deep learning models.\n",
    "\n",
    "Each image in the dataset is:\n",
    "- **28x28 pixels**, grayscale.\n",
    "- Stored as numerical pixel values ranging from **0 (black) to 255 (white)**.\n",
    "- Accompanied by a label indicating the corresponding character.\n",
    "\n",
    "In this tutorial, we will:\n",
    "1. **Load the dataset** and explore its structure.\n",
    "2. **Visualize some samples** to understand the character variations.\n",
    "3. **Preprocess the data** by normalizing pixel values and encoding labels.\n",
    "4. **Split the dataset** into training and testing sets to prepare for model training."
   ]
  },
  {
   "cell_type": "markdown",
   "id": "94e9f88d-43d0-4a1a-a08c-733b98a4eb4d",
   "metadata": {},
   "source": [
    "### Loading The Dataset"
   ]
  },
  {
   "cell_type": "code",
   "execution_count": 22,
   "id": "7fdd28ca-3f53-43b6-bc02-8704c97ba216",
   "metadata": {},
   "outputs": [
    {
     "name": "stdout",
     "output_type": "stream",
     "text": [
      "Dataset Shape: (274093, 786)\n"
     ]
    },
    {
     "data": {
      "text/html": [
       "<div>\n",
       "<style scoped>\n",
       "    .dataframe tbody tr th:only-of-type {\n",
       "        vertical-align: middle;\n",
       "    }\n",
       "\n",
       "    .dataframe tbody tr th {\n",
       "        vertical-align: top;\n",
       "    }\n",
       "\n",
       "    .dataframe thead th {\n",
       "        text-align: right;\n",
       "    }\n",
       "</style>\n",
       "<table border=\"1\" class=\"dataframe\">\n",
       "  <thead>\n",
       "    <tr style=\"text-align: right;\">\n",
       "      <th></th>\n",
       "      <th>names</th>\n",
       "      <th>labels</th>\n",
       "      <th>1</th>\n",
       "      <th>2</th>\n",
       "      <th>3</th>\n",
       "      <th>4</th>\n",
       "      <th>5</th>\n",
       "      <th>6</th>\n",
       "      <th>7</th>\n",
       "      <th>8</th>\n",
       "      <th>...</th>\n",
       "      <th>775</th>\n",
       "      <th>776</th>\n",
       "      <th>777</th>\n",
       "      <th>778</th>\n",
       "      <th>779</th>\n",
       "      <th>780</th>\n",
       "      <th>781</th>\n",
       "      <th>782</th>\n",
       "      <th>783</th>\n",
       "      <th>784</th>\n",
       "    </tr>\n",
       "  </thead>\n",
       "  <tbody>\n",
       "    <tr>\n",
       "      <th>0</th>\n",
       "      <td>Salsa-Regular</td>\n",
       "      <td>6</td>\n",
       "      <td>0.0</td>\n",
       "      <td>0.0</td>\n",
       "      <td>0.0</td>\n",
       "      <td>0.0</td>\n",
       "      <td>0.0</td>\n",
       "      <td>0.0</td>\n",
       "      <td>0.0</td>\n",
       "      <td>0.0</td>\n",
       "      <td>...</td>\n",
       "      <td>0.0</td>\n",
       "      <td>0.0</td>\n",
       "      <td>0.0</td>\n",
       "      <td>0.0</td>\n",
       "      <td>0.0</td>\n",
       "      <td>0.0</td>\n",
       "      <td>0.0</td>\n",
       "      <td>0.0</td>\n",
       "      <td>0.0</td>\n",
       "      <td>0.0</td>\n",
       "    </tr>\n",
       "    <tr>\n",
       "      <th>1</th>\n",
       "      <td>MouseMemoirs-Regular</td>\n",
       "      <td>D</td>\n",
       "      <td>0.0</td>\n",
       "      <td>0.0</td>\n",
       "      <td>0.0</td>\n",
       "      <td>0.0</td>\n",
       "      <td>0.0</td>\n",
       "      <td>0.0</td>\n",
       "      <td>0.0</td>\n",
       "      <td>0.0</td>\n",
       "      <td>...</td>\n",
       "      <td>0.0</td>\n",
       "      <td>0.0</td>\n",
       "      <td>0.0</td>\n",
       "      <td>0.0</td>\n",
       "      <td>0.0</td>\n",
       "      <td>0.0</td>\n",
       "      <td>0.0</td>\n",
       "      <td>0.0</td>\n",
       "      <td>0.0</td>\n",
       "      <td>0.0</td>\n",
       "    </tr>\n",
       "    <tr>\n",
       "      <th>2</th>\n",
       "      <td>Creepster-Regular</td>\n",
       "      <td>f</td>\n",
       "      <td>0.0</td>\n",
       "      <td>0.0</td>\n",
       "      <td>0.0</td>\n",
       "      <td>0.0</td>\n",
       "      <td>0.0</td>\n",
       "      <td>0.0</td>\n",
       "      <td>0.0</td>\n",
       "      <td>0.0</td>\n",
       "      <td>...</td>\n",
       "      <td>0.0</td>\n",
       "      <td>0.0</td>\n",
       "      <td>0.0</td>\n",
       "      <td>0.0</td>\n",
       "      <td>0.0</td>\n",
       "      <td>0.0</td>\n",
       "      <td>0.0</td>\n",
       "      <td>0.0</td>\n",
       "      <td>0.0</td>\n",
       "      <td>0.0</td>\n",
       "    </tr>\n",
       "    <tr>\n",
       "      <th>3</th>\n",
       "      <td>SeoulNamsan-Light</td>\n",
       "      <td>/</td>\n",
       "      <td>0.0</td>\n",
       "      <td>0.0</td>\n",
       "      <td>0.0</td>\n",
       "      <td>0.0</td>\n",
       "      <td>0.0</td>\n",
       "      <td>0.0</td>\n",
       "      <td>0.0</td>\n",
       "      <td>0.0</td>\n",
       "      <td>...</td>\n",
       "      <td>0.0</td>\n",
       "      <td>0.0</td>\n",
       "      <td>0.0</td>\n",
       "      <td>0.0</td>\n",
       "      <td>0.0</td>\n",
       "      <td>0.0</td>\n",
       "      <td>0.0</td>\n",
       "      <td>0.0</td>\n",
       "      <td>0.0</td>\n",
       "      <td>0.0</td>\n",
       "    </tr>\n",
       "    <tr>\n",
       "      <th>4</th>\n",
       "      <td>HachiMaruPop-Regular</td>\n",
       "      <td>F</td>\n",
       "      <td>0.0</td>\n",
       "      <td>0.0</td>\n",
       "      <td>0.0</td>\n",
       "      <td>0.0</td>\n",
       "      <td>0.0</td>\n",
       "      <td>0.0</td>\n",
       "      <td>0.0</td>\n",
       "      <td>0.0</td>\n",
       "      <td>...</td>\n",
       "      <td>0.0</td>\n",
       "      <td>0.0</td>\n",
       "      <td>0.0</td>\n",
       "      <td>0.0</td>\n",
       "      <td>0.0</td>\n",
       "      <td>0.0</td>\n",
       "      <td>0.0</td>\n",
       "      <td>0.0</td>\n",
       "      <td>0.0</td>\n",
       "      <td>0.0</td>\n",
       "    </tr>\n",
       "  </tbody>\n",
       "</table>\n",
       "<p>5 rows × 786 columns</p>\n",
       "</div>"
      ],
      "text/plain": [
       "                  names labels    1    2    3    4    5    6    7    8  ...  \\\n",
       "0         Salsa-Regular      6  0.0  0.0  0.0  0.0  0.0  0.0  0.0  0.0  ...   \n",
       "1  MouseMemoirs-Regular      D  0.0  0.0  0.0  0.0  0.0  0.0  0.0  0.0  ...   \n",
       "2     Creepster-Regular      f  0.0  0.0  0.0  0.0  0.0  0.0  0.0  0.0  ...   \n",
       "3     SeoulNamsan-Light      /  0.0  0.0  0.0  0.0  0.0  0.0  0.0  0.0  ...   \n",
       "4  HachiMaruPop-Regular      F  0.0  0.0  0.0  0.0  0.0  0.0  0.0  0.0  ...   \n",
       "\n",
       "   775  776  777  778  779  780  781  782  783  784  \n",
       "0  0.0  0.0  0.0  0.0  0.0  0.0  0.0  0.0  0.0  0.0  \n",
       "1  0.0  0.0  0.0  0.0  0.0  0.0  0.0  0.0  0.0  0.0  \n",
       "2  0.0  0.0  0.0  0.0  0.0  0.0  0.0  0.0  0.0  0.0  \n",
       "3  0.0  0.0  0.0  0.0  0.0  0.0  0.0  0.0  0.0  0.0  \n",
       "4  0.0  0.0  0.0  0.0  0.0  0.0  0.0  0.0  0.0  0.0  \n",
       "\n",
       "[5 rows x 786 columns]"
      ]
     },
     "execution_count": 22,
     "metadata": {},
     "output_type": "execute_result"
    }
   ],
   "source": [
    "import pandas as pd\n",
    "import numpy as np\n",
    "import matplotlib.pyplot as plt\n",
    "import seaborn as sns\n",
    "\n",
    "# Load the TMNIST dataset\n",
    "dataset_path = \"./data/TMNIST.csv\"\n",
    "df = pd.read_csv(dataset_path)\n",
    "\n",
    "# Display dataset shape and first few rows\n",
    "print(\"Dataset Shape:\", df.shape)\n",
    "df.head()"
   ]
  },
  {
   "cell_type": "markdown",
   "id": "8ab4da02-f331-41fd-a8b8-3b7c490c9499",
   "metadata": {},
   "source": [
    "### Visualising Samples"
   ]
  },
  {
   "cell_type": "code",
   "execution_count": 26,
   "id": "bbfe639a-ffd5-4ea3-ac57-862142fd92bc",
   "metadata": {},
   "outputs": [
    {
     "data": {
      "image/png": "[encoded data removed]",
      "text/plain": [
       "<Figure size 1000x600 with 15 Axes>"
      ]
     },
     "metadata": {},
     "output_type": "display_data"
    }
   ],
   "source": [
    "# Extract labels and pixel values\n",
    "labels = df.iloc[:, 1].values  # Character labels\n",
    "images = df.iloc[:, 2:].values  # Pixel values\n",
    "\n",
    "# Convert pixel values to images\n",
    "images = images.reshape(-1, 28, 28)  # Reshape to 28x28 images\n",
    "\n",
    "# Plot some sample images\n",
    "fig, axes = plt.subplots(3, 5, figsize=(10, 6))\n",
    "axes = axes.flatten()\n",
    "for i in range(15):\n",
    "    axes[i].imshow(images[i], cmap='gray')\n",
    "    axes[i].set_title(f\"Label: {labels[i]}\")\n",
    "    axes[i].axis('off')\n",
    "plt.tight_layout()\n",
    "plt.show()"
   ]
  },
  {
   "cell_type": "markdown",
   "id": "1ce447ab-481b-498b-ad10-48fd679d433b",
   "metadata": {},
   "source": [
    "### Preprocessing Data"
   ]
  },
  {
   "cell_type": "code",
   "execution_count": 33,
   "id": "a164276f-d73c-4e51-8bf5-6ff14daeb929",
   "metadata": {},
   "outputs": [
    {
     "name": "stdout",
     "output_type": "stream",
     "text": [
      "Training set shape: (219274, 28, 28, 1), Labels: (219274, 94)\n",
      "Testing set shape: (54819, 28, 28, 1), Labels: (54819, 94)\n"
     ]
    }
   ],
   "source": [
    "from sklearn.preprocessing import LabelEncoder\n",
    "from tensorflow.keras.utils import to_categorical\n",
    "\n",
    "# Normalize pixel values (scale between 0 and 1)\n",
    "images = images / 255.0  # Convert pixel values to range [0,1]\n",
    "\n",
    "# Reshape images for CNN input (28x28x1)\n",
    "X = images.reshape(-1, 28, 28, 1)\n",
    "\n",
    "# Encode labels\n",
    "label_encoder = LabelEncoder()\n",
    "y = label_encoder.fit_transform(labels)  # Convert characters to numeric labels\n",
    "y = to_categorical(y, num_classes=94)  # One-hot encode the labels\n",
    "\n",
    "# Split dataset into training and testing sets\n",
    "from sklearn.model_selection import train_test_split\n",
    "X_train, X_test, y_train, y_test = train_test_split(X, y, test_size=0.2, random_state=42)\n",
    "\n",
    "# Print dataset shapes\n",
    "print(f\"Training set shape: {X_train.shape}, Labels: {y_train.shape}\")\n",
    "print(f\"Testing set shape: {X_test.shape}, Labels: {y_test.shape}\")\n"
   ]
  },
  {
   "cell_type": "markdown",
   "id": "2b3941a5-5ee4-4a58-aa55-44d1fb6e9b96",
   "metadata": {},
   "source": [
    "---"
   ]
  },
  {
   "cell_type": "markdown",
   "id": "643bc6a2-00af-455f-a2af-72242e8b1b5c",
   "metadata": {},
   "source": [
    "# Model Architecture"
   ]
  },
  {
   "cell_type": "markdown",
   "id": "21eeb042-65e4-4695-9280-95e9907f5bb0",
   "metadata": {},
   "source": [
    "### Model Architecture\n",
    "\n",
    "The **Convolutional Neural Network (CNN)** is a powerful deep learning model widely used for image classification tasks. CNNs are designed to automatically learn spatial hierarchies of features, making them ideal for recognizing characters in the TMNIST dataset.\n",
    "\n",
    "![Convolutional Neural Network](img/cnn.PNG)\n",
    "\n",
    "\n",
    "#### **Why Use a CNN for Character Recognition?**\n",
    "1. **Feature Extraction** - CNNs use convolutional layers to learn patterns such as edges, curves, and textures, which are critical for distinguishing different characters.\n",
    "2. **Translation Invariance** - The pooling layers ensure that small variations in position do not affect classification accuracy.\n",
    "3. **Efficient Learning** - CNNs share parameters across spatial locations, reducing the number of trainable parameters and improving generalization.\n",
    "4. **Robustness to Noise** - The architecture can learn from noisy or distorted character images, making it well-suited for real-world OCR applications.\n",
    "\n",
    "#### **CNN Model Structure for TMNIST**\n",
    "We will use the following **layered approach** to design our CNN:\n",
    "\n",
    "1. **Convolutional Layers (Conv2D):**\n",
    "   - Extract features from images using learnable filters (kernels).\n",
    "   - The first layer will use **32 filters of size (3,3)**, followed by a second layer with **64 filters**.\n",
    "   - **ReLU activation** is applied to introduce non-linearity.\n",
    "   \n",
    "2. **Batch Normalization:**\n",
    "   - Normalizes activations to stabilize learning and speed up convergence.\n",
    "\n",
    "3. **MaxPooling Layers:**\n",
    "   - Reduce spatial dimensions while retaining the most important features.\n",
    "   - A **pool size of (2,2)** is used to downsample the feature maps.\n",
    "\n",
    "4. **Dropout Layers:**\n",
    "   - Introduced after key layers to prevent overfitting.\n",
    "   - Randomly deactivates a fraction of neurons during training to encourage generalization.\n",
    "\n",
    "5. **Flatten Layer:**\n",
    "   - Converts the final feature maps into a one-dimensional array to feed into dense layers.\n",
    "\n",
    "6. **Fully Connected (Dense) Layers:**\n",
    "   - A dense layer with **256 neurons** to learn high-level representations.\n",
    "   - A final **softmax layer with 94 neurons** (one for each character class) to output classification probabilities.\n",
    "\n",
    "#### **Compilation Strategy**\n",
    "- **Loss Function:** `categorical_crossentropy` (since we have multiple classes and one-hot encoded labels).\n",
    "- **Optimizer:** `Adam` optimizer for efficient gradient descent.\n",
    "- **Evaluation Metric:** `accuracy` to measure classification performance.\n",
    "\n",
    "Next, we will define the model using TensorFlow/Keras and compile it for training."
   ]
  },
  {
   "cell_type": "markdown",
   "id": "4a424d89-2c24-4bd9-93bb-ace2f88b9dbb",
   "metadata": {},
   "source": [
    "## Setting Up The Model"
   ]
  },
  {
   "cell_type": "markdown",
   "id": "62f5e1be-fe62-4bb8-b935-8f0967e9375d",
   "metadata": {},
   "source": [
    "### 1. Initializing the Model"
   ]
  },
  {
   "cell_type": "code",
   "execution_count": 38,
   "id": "6154953e-959c-40b3-90fc-9b7f8e875941",
   "metadata": {},
   "outputs": [],
   "source": [
    "from tensorflow.keras.models import Sequential\n",
    "\n",
    "# Initialize the model\n",
    "model = Sequential()\n"
   ]
  },
  {
   "cell_type": "markdown",
   "id": "66eea26f-9e13-41b3-9bf6-9374948a8358",
   "metadata": {},
   "source": [
    "### 2. Adding the First Convolutional Layer"
   ]
  },
  {
   "cell_type": "code",
   "execution_count": 41,
   "id": "38bde236-cbd2-4949-86eb-4b4f7d91e91c",
   "metadata": {},
   "outputs": [
    {
     "name": "stderr",
     "output_type": "stream",
     "text": [
      "C:\\Users\\sathu\\anaconda3\\Lib\\site-packages\\keras\\src\\layers\\convolutional\\base_conv.py:107: UserWarning: Do not pass an `input_shape`/`input_dim` argument to a layer. When using Sequential models, prefer using an `Input(shape)` object as the first layer in the model instead.\n",
      "  super().__init__(activity_regularizer=activity_regularizer, **kwargs)\n"
     ]
    }
   ],
   "source": [
    "from tensorflow.keras.layers import Conv2D, BatchNormalization\n",
    "\n",
    "# First Convolutional Layer\n",
    "model.add(Conv2D(32, (3,3), activation='relu', input_shape=(28,28,1)))\n",
    "model.add(BatchNormalization())  # Normalize activations to stabilize training\n"
   ]
  },
  {
   "cell_type": "markdown",
   "id": "3a72db65-2588-4e92-81c2-0fbfc101c2f1",
   "metadata": {},
   "source": [
    "### 3. Adding MaxPooling and Dropout Layers"
   ]
  },
  {
   "cell_type": "code",
   "execution_count": 44,
   "id": "5bd0a885-59f4-4580-95ef-31b5a226a2f2",
   "metadata": {},
   "outputs": [],
   "source": [
    "from tensorflow.keras.layers import MaxPooling2D, Dropout\n",
    "\n",
    "# MaxPooling and Dropout\n",
    "model.add(MaxPooling2D(pool_size=(2,2)))  # Downsample the feature maps\n",
    "model.add(Dropout(0.25))  # Dropout to prevent overfitting\n"
   ]
  },
  {
   "cell_type": "markdown",
   "id": "8960e38e-61b1-44df-88e9-c92d4fbaa6c8",
   "metadata": {},
   "source": [
    "### 4. Adding the Second Convolutional Layer"
   ]
  },
  {
   "cell_type": "code",
   "execution_count": 47,
   "id": "b2b555fe-c628-4d2e-8cfc-c9945b0d5522",
   "metadata": {},
   "outputs": [],
   "source": [
    "# Second Convolutional Layer\n",
    "model.add(Conv2D(64, (3,3), activation='relu'))\n",
    "model.add(BatchNormalization())  # Normalize activations\n"
   ]
  },
  {
   "cell_type": "markdown",
   "id": "5652a076-da08-4767-9bcb-af77770e8e60",
   "metadata": {},
   "source": [
    "### 5. Adding Another Pooling and Dropout Layer"
   ]
  },
  {
   "cell_type": "code",
   "execution_count": 50,
   "id": "07327196-2d2d-4b79-9eba-642799ea534d",
   "metadata": {},
   "outputs": [],
   "source": [
    "# MaxPooling and Dropout\n",
    "model.add(MaxPooling2D(pool_size=(2,2)))\n",
    "model.add(Dropout(0.25))\n"
   ]
  },
  {
   "cell_type": "markdown",
   "id": "edcd89bd-c3a1-4aa4-a5d4-03b261800bcb",
   "metadata": {},
   "source": [
    "### 6. Flattening the Feature Maps"
   ]
  },
  {
   "cell_type": "code",
   "execution_count": 53,
   "id": "216d8964-3cc3-431f-9544-3292e5851402",
   "metadata": {},
   "outputs": [],
   "source": [
    "from tensorflow.keras.layers import Flatten\n",
    "\n",
    "# Flatten the feature maps\n",
    "model.add(Flatten())\n"
   ]
  },
  {
   "cell_type": "markdown",
   "id": "1a575b69-5000-41d7-a6a3-9217fc038bef",
   "metadata": {},
   "source": [
    "### 7. Adding Fully Connected (Dense) Layers"
   ]
  },
  {
   "cell_type": "code",
   "execution_count": 56,
   "id": "d955e1b5-0873-4498-a7ce-c61eb0af6bd5",
   "metadata": {},
   "outputs": [],
   "source": [
    "from tensorflow.keras.layers import Dense\n",
    "\n",
    "# Fully Connected Layer\n",
    "model.add(Dense(256, activation='relu'))\n",
    "model.add(BatchNormalization())  # Normalize activations\n",
    "model.add(Dropout(0.5))  # Dropout to prevent overfitting\n"
   ]
  },
  {
   "cell_type": "markdown",
   "id": "d51fadfc-10b2-491c-a45b-f673bf840798",
   "metadata": {},
   "source": [
    "### 8. Output Layer (Softmax Activation for Classification)"
   ]
  },
  {
   "cell_type": "code",
   "execution_count": 59,
   "id": "c60fc5ea-e7d2-40c1-bd90-11f6ae86fc40",
   "metadata": {},
   "outputs": [],
   "source": [
    "# Output Layer\n",
    "model.add(Dense(94, activation='softmax'))\n"
   ]
  },
  {
   "cell_type": "markdown",
   "id": "f981f201-3984-44c6-865f-f37162a1df7f",
   "metadata": {},
   "source": [
    "### 9. Compiling the Model"
   ]
  },
  {
   "cell_type": "code",
   "execution_count": 62,
   "id": "b9bed098-6cbb-4219-a2d0-45dde1a0aa57",
   "metadata": {},
   "outputs": [
    {
     "data": {
      "text/html": [
       "<pre style=\"white-space:pre;overflow-x:auto;line-height:normal;font-family:Menlo,'DejaVu Sans Mono',consolas,'Courier New',monospace\"><span style=\"font-weight: bold\">Model: \"sequential\"</span>\n",
       "</pre>\n"
      ],
      "text/plain": [
       "\u001b[1mModel: \"sequential\"\u001b[0m\n"
      ]
     },
     "metadata": {},
     "output_type": "display_data"
    },
    {
     "data": {
      "text/html": [
       "<pre style=\"white-space:pre;overflow-x:auto;line-height:normal;font-family:Menlo,'DejaVu Sans Mono',consolas,'Courier New',monospace\">┏━━━━━━━━━━━━━━━━━━━━━━━━━━━━━━━━━┳━━━━━━━━━━━━━━━━━━━━━━━━┳━━━━━━━━━━━━━━━┓\n",
       "┃<span style=\"font-weight: bold\"> Layer (type)                    </span>┃<span style=\"font-weight: bold\"> Output Shape           </span>┃<span style=\"font-weight: bold\">       Param # </span>┃\n",
       "┡━━━━━━━━━━━━━━━━━━━━━━━━━━━━━━━━━╇━━━━━━━━━━━━━━━━━━━━━━━━╇━━━━━━━━━━━━━━━┩\n",
       "│ conv2d (<span style=\"color: #0087ff; text-decoration-color: #0087ff\">Conv2D</span>)                 │ (<span style=\"color: #00d7ff; text-decoration-color: #00d7ff\">None</span>, <span style=\"color: #00af00; text-decoration-color: #00af00\">26</span>, <span style=\"color: #00af00; text-decoration-color: #00af00\">26</span>, <span style=\"color: #00af00; text-decoration-color: #00af00\">32</span>)     │           <span style=\"color: #00af00; text-decoration-color: #00af00\">320</span> │\n",
       "├─────────────────────────────────┼────────────────────────┼───────────────┤\n",
       "│ batch_normalization             │ (<span style=\"color: #00d7ff; text-decoration-color: #00d7ff\">None</span>, <span style=\"color: #00af00; text-decoration-color: #00af00\">26</span>, <span style=\"color: #00af00; text-decoration-color: #00af00\">26</span>, <span style=\"color: #00af00; text-decoration-color: #00af00\">32</span>)     │           <span style=\"color: #00af00; text-decoration-color: #00af00\">128</span> │\n",
       "│ (<span style=\"color: #0087ff; text-decoration-color: #0087ff\">BatchNormalization</span>)            │                        │               │\n",
       "├─────────────────────────────────┼────────────────────────┼───────────────┤\n",
       "│ max_pooling2d (<span style=\"color: #0087ff; text-decoration-color: #0087ff\">MaxPooling2D</span>)    │ (<span style=\"color: #00d7ff; text-decoration-color: #00d7ff\">None</span>, <span style=\"color: #00af00; text-decoration-color: #00af00\">13</span>, <span style=\"color: #00af00; text-decoration-color: #00af00\">13</span>, <span style=\"color: #00af00; text-decoration-color: #00af00\">32</span>)     │             <span style=\"color: #00af00; text-decoration-color: #00af00\">0</span> │\n",
       "├─────────────────────────────────┼────────────────────────┼───────────────┤\n",
       "│ dropout (<span style=\"color: #0087ff; text-decoration-color: #0087ff\">Dropout</span>)               │ (<span style=\"color: #00d7ff; text-decoration-color: #00d7ff\">None</span>, <span style=\"color: #00af00; text-decoration-color: #00af00\">13</span>, <span style=\"color: #00af00; text-decoration-color: #00af00\">13</span>, <span style=\"color: #00af00; text-decoration-color: #00af00\">32</span>)     │             <span style=\"color: #00af00; text-decoration-color: #00af00\">0</span> │\n",
       "├─────────────────────────────────┼────────────────────────┼───────────────┤\n",
       "│ conv2d_1 (<span style=\"color: #0087ff; text-decoration-color: #0087ff\">Conv2D</span>)               │ (<span style=\"color: #00d7ff; text-decoration-color: #00d7ff\">None</span>, <span style=\"color: #00af00; text-decoration-color: #00af00\">11</span>, <span style=\"color: #00af00; text-decoration-color: #00af00\">11</span>, <span style=\"color: #00af00; text-decoration-color: #00af00\">64</span>)     │        <span style=\"color: #00af00; text-decoration-color: #00af00\">18,496</span> │\n",
       "├─────────────────────────────────┼────────────────────────┼───────────────┤\n",
       "│ batch_normalization_1           │ (<span style=\"color: #00d7ff; text-decoration-color: #00d7ff\">None</span>, <span style=\"color: #00af00; text-decoration-color: #00af00\">11</span>, <span style=\"color: #00af00; text-decoration-color: #00af00\">11</span>, <span style=\"color: #00af00; text-decoration-color: #00af00\">64</span>)     │           <span style=\"color: #00af00; text-decoration-color: #00af00\">256</span> │\n",
       "│ (<span style=\"color: #0087ff; text-decoration-color: #0087ff\">BatchNormalization</span>)            │                        │               │\n",
       "├─────────────────────────────────┼────────────────────────┼───────────────┤\n",
       "│ max_pooling2d_1 (<span style=\"color: #0087ff; text-decoration-color: #0087ff\">MaxPooling2D</span>)  │ (<span style=\"color: #00d7ff; text-decoration-color: #00d7ff\">None</span>, <span style=\"color: #00af00; text-decoration-color: #00af00\">5</span>, <span style=\"color: #00af00; text-decoration-color: #00af00\">5</span>, <span style=\"color: #00af00; text-decoration-color: #00af00\">64</span>)       │             <span style=\"color: #00af00; text-decoration-color: #00af00\">0</span> │\n",
       "├─────────────────────────────────┼────────────────────────┼───────────────┤\n",
       "│ dropout_1 (<span style=\"color: #0087ff; text-decoration-color: #0087ff\">Dropout</span>)             │ (<span style=\"color: #00d7ff; text-decoration-color: #00d7ff\">None</span>, <span style=\"color: #00af00; text-decoration-color: #00af00\">5</span>, <span style=\"color: #00af00; text-decoration-color: #00af00\">5</span>, <span style=\"color: #00af00; text-decoration-color: #00af00\">64</span>)       │             <span style=\"color: #00af00; text-decoration-color: #00af00\">0</span> │\n",
       "├─────────────────────────────────┼────────────────────────┼───────────────┤\n",
       "│ flatten (<span style=\"color: #0087ff; text-decoration-color: #0087ff\">Flatten</span>)               │ (<span style=\"color: #00d7ff; text-decoration-color: #00d7ff\">None</span>, <span style=\"color: #00af00; text-decoration-color: #00af00\">1600</span>)           │             <span style=\"color: #00af00; text-decoration-color: #00af00\">0</span> │\n",
       "├─────────────────────────────────┼────────────────────────┼───────────────┤\n",
       "│ dense (<span style=\"color: #0087ff; text-decoration-color: #0087ff\">Dense</span>)                   │ (<span style=\"color: #00d7ff; text-decoration-color: #00d7ff\">None</span>, <span style=\"color: #00af00; text-decoration-color: #00af00\">256</span>)            │       <span style=\"color: #00af00; text-decoration-color: #00af00\">409,856</span> │\n",
       "├─────────────────────────────────┼────────────────────────┼───────────────┤\n",
       "│ batch_normalization_2           │ (<span style=\"color: #00d7ff; text-decoration-color: #00d7ff\">None</span>, <span style=\"color: #00af00; text-decoration-color: #00af00\">256</span>)            │         <span style=\"color: #00af00; text-decoration-color: #00af00\">1,024</span> │\n",
       "│ (<span style=\"color: #0087ff; text-decoration-color: #0087ff\">BatchNormalization</span>)            │                        │               │\n",
       "├─────────────────────────────────┼────────────────────────┼───────────────┤\n",
       "│ dropout_2 (<span style=\"color: #0087ff; text-decoration-color: #0087ff\">Dropout</span>)             │ (<span style=\"color: #00d7ff; text-decoration-color: #00d7ff\">None</span>, <span style=\"color: #00af00; text-decoration-color: #00af00\">256</span>)            │             <span style=\"color: #00af00; text-decoration-color: #00af00\">0</span> │\n",
       "├─────────────────────────────────┼────────────────────────┼───────────────┤\n",
       "│ dense_1 (<span style=\"color: #0087ff; text-decoration-color: #0087ff\">Dense</span>)                 │ (<span style=\"color: #00d7ff; text-decoration-color: #00d7ff\">None</span>, <span style=\"color: #00af00; text-decoration-color: #00af00\">94</span>)             │        <span style=\"color: #00af00; text-decoration-color: #00af00\">24,158</span> │\n",
       "└─────────────────────────────────┴────────────────────────┴───────────────┘\n",
       "</pre>\n"
      ],
      "text/plain": [
       "┏━━━━━━━━━━━━━━━━━━━━━━━━━━━━━━━━━┳━━━━━━━━━━━━━━━━━━━━━━━━┳━━━━━━━━━━━━━━━┓\n",
       "┃\u001b[1m \u001b[0m\u001b[1mLayer (type)                   \u001b[0m\u001b[1m \u001b[0m┃\u001b[1m \u001b[0m\u001b[1mOutput Shape          \u001b[0m\u001b[1m \u001b[0m┃\u001b[1m \u001b[0m\u001b[1m      Param #\u001b[0m\u001b[1m \u001b[0m┃\n",
       "┡━━━━━━━━━━━━━━━━━━━━━━━━━━━━━━━━━╇━━━━━━━━━━━━━━━━━━━━━━━━╇━━━━━━━━━━━━━━━┩\n",
       "│ conv2d (\u001b[38;5;33mConv2D\u001b[0m)                 │ (\u001b[38;5;45mNone\u001b[0m, \u001b[38;5;34m26\u001b[0m, \u001b[38;5;34m26\u001b[0m, \u001b[38;5;34m32\u001b[0m)     │           \u001b[38;5;34m320\u001b[0m │\n",
       "├─────────────────────────────────┼────────────────────────┼───────────────┤\n",
       "│ batch_normalization             │ (\u001b[38;5;45mNone\u001b[0m, \u001b[38;5;34m26\u001b[0m, \u001b[38;5;34m26\u001b[0m, \u001b[38;5;34m32\u001b[0m)     │           \u001b[38;5;34m128\u001b[0m │\n",
       "│ (\u001b[38;5;33mBatchNormalization\u001b[0m)            │                        │               │\n",
       "├─────────────────────────────────┼────────────────────────┼───────────────┤\n",
       "│ max_pooling2d (\u001b[38;5;33mMaxPooling2D\u001b[0m)    │ (\u001b[38;5;45mNone\u001b[0m, \u001b[38;5;34m13\u001b[0m, \u001b[38;5;34m13\u001b[0m, \u001b[38;5;34m32\u001b[0m)     │             \u001b[38;5;34m0\u001b[0m │\n",
       "├─────────────────────────────────┼────────────────────────┼───────────────┤\n",
       "│ dropout (\u001b[38;5;33mDropout\u001b[0m)               │ (\u001b[38;5;45mNone\u001b[0m, \u001b[38;5;34m13\u001b[0m, \u001b[38;5;34m13\u001b[0m, \u001b[38;5;34m32\u001b[0m)     │             \u001b[38;5;34m0\u001b[0m │\n",
       "├─────────────────────────────────┼────────────────────────┼───────────────┤\n",
       "│ conv2d_1 (\u001b[38;5;33mConv2D\u001b[0m)               │ (\u001b[38;5;45mNone\u001b[0m, \u001b[38;5;34m11\u001b[0m, \u001b[38;5;34m11\u001b[0m, \u001b[38;5;34m64\u001b[0m)     │        \u001b[38;5;34m18,496\u001b[0m │\n",
       "├─────────────────────────────────┼────────────────────────┼───────────────┤\n",
       "│ batch_normalization_1           │ (\u001b[38;5;45mNone\u001b[0m, \u001b[38;5;34m11\u001b[0m, \u001b[38;5;34m11\u001b[0m, \u001b[38;5;34m64\u001b[0m)     │           \u001b[38;5;34m256\u001b[0m │\n",
       "│ (\u001b[38;5;33mBatchNormalization\u001b[0m)            │                        │               │\n",
       "├─────────────────────────────────┼────────────────────────┼───────────────┤\n",
       "│ max_pooling2d_1 (\u001b[38;5;33mMaxPooling2D\u001b[0m)  │ (\u001b[38;5;45mNone\u001b[0m, \u001b[38;5;34m5\u001b[0m, \u001b[38;5;34m5\u001b[0m, \u001b[38;5;34m64\u001b[0m)       │             \u001b[38;5;34m0\u001b[0m │\n",
       "├─────────────────────────────────┼────────────────────────┼───────────────┤\n",
       "│ dropout_1 (\u001b[38;5;33mDropout\u001b[0m)             │ (\u001b[38;5;45mNone\u001b[0m, \u001b[38;5;34m5\u001b[0m, \u001b[38;5;34m5\u001b[0m, \u001b[38;5;34m64\u001b[0m)       │             \u001b[38;5;34m0\u001b[0m │\n",
       "├─────────────────────────────────┼────────────────────────┼───────────────┤\n",
       "│ flatten (\u001b[38;5;33mFlatten\u001b[0m)               │ (\u001b[38;5;45mNone\u001b[0m, \u001b[38;5;34m1600\u001b[0m)           │             \u001b[38;5;34m0\u001b[0m │\n",
       "├─────────────────────────────────┼────────────────────────┼───────────────┤\n",
       "│ dense (\u001b[38;5;33mDense\u001b[0m)                   │ (\u001b[38;5;45mNone\u001b[0m, \u001b[38;5;34m256\u001b[0m)            │       \u001b[38;5;34m409,856\u001b[0m │\n",
       "├─────────────────────────────────┼────────────────────────┼───────────────┤\n",
       "│ batch_normalization_2           │ (\u001b[38;5;45mNone\u001b[0m, \u001b[38;5;34m256\u001b[0m)            │         \u001b[38;5;34m1,024\u001b[0m │\n",
       "│ (\u001b[38;5;33mBatchNormalization\u001b[0m)            │                        │               │\n",
       "├─────────────────────────────────┼────────────────────────┼───────────────┤\n",
       "│ dropout_2 (\u001b[38;5;33mDropout\u001b[0m)             │ (\u001b[38;5;45mNone\u001b[0m, \u001b[38;5;34m256\u001b[0m)            │             \u001b[38;5;34m0\u001b[0m │\n",
       "├─────────────────────────────────┼────────────────────────┼───────────────┤\n",
       "│ dense_1 (\u001b[38;5;33mDense\u001b[0m)                 │ (\u001b[38;5;45mNone\u001b[0m, \u001b[38;5;34m94\u001b[0m)             │        \u001b[38;5;34m24,158\u001b[0m │\n",
       "└─────────────────────────────────┴────────────────────────┴───────────────┘\n"
      ]
     },
     "metadata": {},
     "output_type": "display_data"
    },
    {
     "data": {
      "text/html": [
       "<pre style=\"white-space:pre;overflow-x:auto;line-height:normal;font-family:Menlo,'DejaVu Sans Mono',consolas,'Courier New',monospace\"><span style=\"font-weight: bold\"> Total params: </span><span style=\"color: #00af00; text-decoration-color: #00af00\">454,238</span> (1.73 MB)\n",
       "</pre>\n"
      ],
      "text/plain": [
       "\u001b[1m Total params: \u001b[0m\u001b[38;5;34m454,238\u001b[0m (1.73 MB)\n"
      ]
     },
     "metadata": {},
     "output_type": "display_data"
    },
    {
     "data": {
      "text/html": [
       "<pre style=\"white-space:pre;overflow-x:auto;line-height:normal;font-family:Menlo,'DejaVu Sans Mono',consolas,'Courier New',monospace\"><span style=\"font-weight: bold\"> Trainable params: </span><span style=\"color: #00af00; text-decoration-color: #00af00\">453,534</span> (1.73 MB)\n",
       "</pre>\n"
      ],
      "text/plain": [
       "\u001b[1m Trainable params: \u001b[0m\u001b[38;5;34m453,534\u001b[0m (1.73 MB)\n"
      ]
     },
     "metadata": {},
     "output_type": "display_data"
    },
    {
     "data": {
      "text/html": [
       "<pre style=\"white-space:pre;overflow-x:auto;line-height:normal;font-family:Menlo,'DejaVu Sans Mono',consolas,'Courier New',monospace\"><span style=\"font-weight: bold\"> Non-trainable params: </span><span style=\"color: #00af00; text-decoration-color: #00af00\">704</span> (2.75 KB)\n",
       "</pre>\n"
      ],
      "text/plain": [
       "\u001b[1m Non-trainable params: \u001b[0m\u001b[38;5;34m704\u001b[0m (2.75 KB)\n"
      ]
     },
     "metadata": {},
     "output_type": "display_data"
    }
   ],
   "source": [
    "# Compile the model\n",
    "model.compile(optimizer='adam', loss='categorical_crossentropy', metrics=['accuracy'])\n",
    "\n",
    "# Display model summary\n",
    "model.summary()\n"
   ]
  },
  {
   "cell_type": "markdown",
   "id": "b3e55a57-9688-4618-9a94-c61d2d3bbfd5",
   "metadata": {},
   "source": [
    "## Training The Model"
   ]
  },
  {
   "cell_type": "markdown",
   "id": "7b465d43-4574-4037-ab75-b5fa676cd612",
   "metadata": {},
   "source": [
    "Now that our CNN model is defined and compiled, the next step is training the model using the training dataset. We will train it for multiple epochs while monitoring both training and validation accuracy to ensure that the model generalizes well."
   ]
  },
  {
   "cell_type": "markdown",
   "id": "adf0f21d-44e8-48fb-b6c4-cec0e1c604b4",
   "metadata": {},
   "source": [
    "### 1. Training the Model using Training Data"
   ]
  },
  {
   "cell_type": "code",
   "execution_count": 80,
   "id": "c6fa8789-b84f-4460-b7c0-9875f90d7659",
   "metadata": {},
   "outputs": [
    {
     "name": "stdout",
     "output_type": "stream",
     "text": [
      "Epoch 1/20\n",
      "\u001b[1m1714/1714\u001b[0m \u001b[32m━━━━━━━━━━━━━━━━━━━━\u001b[0m\u001b[37m\u001b[0m \u001b[1m59s\u001b[0m 33ms/step - accuracy: 0.7207 - loss: 1.1178 - val_accuracy: 0.9068 - val_loss: 0.2999\n",
      "Epoch 2/20\n",
      "\u001b[1m1714/1714\u001b[0m \u001b[32m━━━━━━━━━━━━━━━━━━━━\u001b[0m\u001b[37m\u001b[0m \u001b[1m54s\u001b[0m 32ms/step - accuracy: 0.8941 - loss: 0.3533 - val_accuracy: 0.9235 - val_loss: 0.2438\n",
      "Epoch 3/20\n",
      "\u001b[1m1714/1714\u001b[0m \u001b[32m━━━━━━━━━━━━━━━━━━━━\u001b[0m\u001b[37m\u001b[0m \u001b[1m54s\u001b[0m 31ms/step - accuracy: 0.9074 - loss: 0.3033 - val_accuracy: 0.9243 - val_loss: 0.2411\n",
      "Epoch 4/20\n",
      "\u001b[1m1714/1714\u001b[0m \u001b[32m━━━━━━━━━━━━━━━━━━━━\u001b[0m\u001b[37m\u001b[0m \u001b[1m54s\u001b[0m 31ms/step - accuracy: 0.9136 - loss: 0.2791 - val_accuracy: 0.9317 - val_loss: 0.2183\n",
      "Epoch 5/20\n",
      "\u001b[1m1714/1714\u001b[0m \u001b[32m━━━━━━━━━━━━━━━━━━━━\u001b[0m\u001b[37m\u001b[0m \u001b[1m54s\u001b[0m 32ms/step - accuracy: 0.9154 - loss: 0.2696 - val_accuracy: 0.9308 - val_loss: 0.2146\n",
      "Epoch 6/20\n",
      "\u001b[1m1714/1714\u001b[0m \u001b[32m━━━━━━━━━━━━━━━━━━━━\u001b[0m\u001b[37m\u001b[0m \u001b[1m54s\u001b[0m 32ms/step - accuracy: 0.9192 - loss: 0.2553 - val_accuracy: 0.9361 - val_loss: 0.2022\n",
      "Epoch 7/20\n",
      "\u001b[1m1714/1714\u001b[0m \u001b[32m━━━━━━━━━━━━━━━━━━━━\u001b[0m\u001b[37m\u001b[0m \u001b[1m53s\u001b[0m 31ms/step - accuracy: 0.9209 - loss: 0.2451 - val_accuracy: 0.9306 - val_loss: 0.2156\n",
      "Epoch 8/20\n",
      "\u001b[1m1714/1714\u001b[0m \u001b[32m━━━━━━━━━━━━━━━━━━━━\u001b[0m\u001b[37m\u001b[0m \u001b[1m55s\u001b[0m 32ms/step - accuracy: 0.9249 - loss: 0.2331 - val_accuracy: 0.9368 - val_loss: 0.1944\n",
      "Epoch 9/20\n",
      "\u001b[1m1714/1714\u001b[0m \u001b[32m━━━━━━━━━━━━━━━━━━━━\u001b[0m\u001b[37m\u001b[0m \u001b[1m54s\u001b[0m 31ms/step - accuracy: 0.9256 - loss: 0.2301 - val_accuracy: 0.9357 - val_loss: 0.1986\n",
      "Epoch 10/20\n",
      "\u001b[1m1714/1714\u001b[0m \u001b[32m━━━━━━━━━━━━━━━━━━━━\u001b[0m\u001b[37m\u001b[0m \u001b[1m54s\u001b[0m 31ms/step - accuracy: 0.9280 - loss: 0.2193 - val_accuracy: 0.9393 - val_loss: 0.1883\n",
      "Epoch 11/20\n",
      "\u001b[1m1714/1714\u001b[0m \u001b[32m━━━━━━━━━━━━━━━━━━━━\u001b[0m\u001b[37m\u001b[0m \u001b[1m53s\u001b[0m 31ms/step - accuracy: 0.9282 - loss: 0.2191 - val_accuracy: 0.9375 - val_loss: 0.1892\n",
      "Epoch 12/20\n",
      "\u001b[1m1714/1714\u001b[0m \u001b[32m━━━━━━━━━━━━━━━━━━━━\u001b[0m\u001b[37m\u001b[0m \u001b[1m54s\u001b[0m 32ms/step - accuracy: 0.9287 - loss: 0.2160 - val_accuracy: 0.9392 - val_loss: 0.1866\n",
      "Epoch 13/20\n",
      "\u001b[1m1714/1714\u001b[0m \u001b[32m━━━━━━━━━━━━━━━━━━━━\u001b[0m\u001b[37m\u001b[0m \u001b[1m53s\u001b[0m 31ms/step - accuracy: 0.9313 - loss: 0.2101 - val_accuracy: 0.9396 - val_loss: 0.1899\n",
      "Epoch 14/20\n",
      "\u001b[1m1714/1714\u001b[0m \u001b[32m━━━━━━━━━━━━━━━━━━━━\u001b[0m\u001b[37m\u001b[0m \u001b[1m54s\u001b[0m 32ms/step - accuracy: 0.9314 - loss: 0.2062 - val_accuracy: 0.9426 - val_loss: 0.1791\n",
      "Epoch 15/20\n",
      "\u001b[1m1714/1714\u001b[0m \u001b[32m━━━━━━━━━━━━━━━━━━━━\u001b[0m\u001b[37m\u001b[0m \u001b[1m53s\u001b[0m 31ms/step - accuracy: 0.9312 - loss: 0.2073 - val_accuracy: 0.9436 - val_loss: 0.1768\n",
      "Epoch 16/20\n",
      "\u001b[1m1714/1714\u001b[0m \u001b[32m━━━━━━━━━━━━━━━━━━━━\u001b[0m\u001b[37m\u001b[0m \u001b[1m54s\u001b[0m 32ms/step - accuracy: 0.9340 - loss: 0.1985 - val_accuracy: 0.9423 - val_loss: 0.1795\n",
      "Epoch 17/20\n",
      "\u001b[1m1714/1714\u001b[0m \u001b[32m━━━━━━━━━━━━━━━━━━━━\u001b[0m\u001b[37m\u001b[0m \u001b[1m55s\u001b[0m 32ms/step - accuracy: 0.9336 - loss: 0.1995 - val_accuracy: 0.9437 - val_loss: 0.1743\n",
      "Epoch 18/20\n",
      "\u001b[1m1714/1714\u001b[0m \u001b[32m━━━━━━━━━━━━━━━━━━━━\u001b[0m\u001b[37m\u001b[0m \u001b[1m54s\u001b[0m 31ms/step - accuracy: 0.9348 - loss: 0.1935 - val_accuracy: 0.9428 - val_loss: 0.1793\n",
      "Epoch 19/20\n",
      "\u001b[1m1714/1714\u001b[0m \u001b[32m━━━━━━━━━━━━━━━━━━━━\u001b[0m\u001b[37m\u001b[0m \u001b[1m53s\u001b[0m 31ms/step - accuracy: 0.9344 - loss: 0.1971 - val_accuracy: 0.9434 - val_loss: 0.1784\n",
      "Epoch 20/20\n",
      "\u001b[1m1714/1714\u001b[0m \u001b[32m━━━━━━━━━━━━━━━━━━━━\u001b[0m\u001b[37m\u001b[0m \u001b[1m44s\u001b[0m 26ms/step - accuracy: 0.9302 - loss: 0.2073 - val_accuracy: 0.9444 - val_loss: 0.1749\n"
     ]
    }
   ],
   "source": [
    "# Train the model\n",
    "history = model.fit(\n",
    "    X_train, y_train, \n",
    "    validation_data=(X_test, y_test), \n",
    "    epochs=20, \n",
    "    batch_size=128\n",
    ")\n"
   ]
  },
  {
   "cell_type": "markdown",
   "id": "e931c393-f4b0-43a2-8307-2ed17d0d744b",
   "metadata": {},
   "source": [
    "### 2. Evaluating Model Performance on the Test Set"
   ]
  },
  {
   "cell_type": "code",
   "execution_count": 82,
   "id": "deaadfc8-64c5-4ae7-b945-8e4414367399",
   "metadata": {},
   "outputs": [
    {
     "name": "stdout",
     "output_type": "stream",
     "text": [
      "\u001b[1m1714/1714\u001b[0m \u001b[32m━━━━━━━━━━━━━━━━━━━━\u001b[0m\u001b[37m\u001b[0m \u001b[1m3s\u001b[0m 2ms/step - accuracy: 0.9445 - loss: 0.1750\n",
      "Test Loss: 0.1749, Test Accuracy: 0.9444\n"
     ]
    }
   ],
   "source": [
    "# Evaluate the model on test data\n",
    "eval_results = model.evaluate(X_test, y_test)\n",
    "\n",
    "# Print test loss and accuracy\n",
    "print(f\"Test Loss: {eval_results[0]:.4f}, Test Accuracy: {eval_results[1]:.4f}\")\n"
   ]
  },
  {
   "cell_type": "markdown",
   "id": "a431591a-5271-4a0e-8c4f-9bb950aa65a3",
   "metadata": {},
   "source": [
    "### 3. Plotting Training History (Loss & Accuracy Trends)"
   ]
  },
  {
   "cell_type": "code",
   "execution_count": 84,
   "id": "1ff2e68c-468e-4370-9694-93f933015399",
   "metadata": {
    "scrolled": true
   },
   "outputs": [
    {
     "data": {
      "image/png": "[encoded data removed]",
      "text/plain": [
       "<Figure size 1200x500 with 2 Axes>"
      ]
     },
     "metadata": {},
     "output_type": "display_data"
    }
   ],
   "source": [
    "import matplotlib.pyplot as plt\n",
    "\n",
    "# Plot training history\n",
    "plt.figure(figsize=(12,5))\n",
    "\n",
    "# Loss Plot\n",
    "plt.subplot(1,2,1)\n",
    "plt.plot(history.history['loss'], label='Train Loss')\n",
    "plt.plot(history.history['val_loss'], label='Validation Loss')\n",
    "plt.legend()\n",
    "plt.title('Loss over Epochs')\n",
    "\n",
    "# Accuracy Plot\n",
    "plt.subplot(1,2,2)\n",
    "plt.plot(history.history['accuracy'], label='Train Accuracy')\n",
    "plt.plot(history.history['val_accuracy'], label='Validation Accuracy')\n",
    "plt.legend()\n",
    "plt.title('Accuracy over Epochs')\n",
    "\n",
    "plt.show()\n"
   ]
  },
  {
   "cell_type": "markdown",
   "id": "8d1def11-7fdf-4131-80de-335da20d611e",
   "metadata": {},
   "source": [
    "---"
   ]
  },
  {
   "cell_type": "markdown",
   "id": "d432f11f-772c-4719-9fbf-66afeafd1994",
   "metadata": {},
   "source": [
    "# Results and Insights"
   ]
  },
  {
   "cell_type": "markdown",
   "id": "8fa7a672-de83-4af5-afb1-8748fde347a5",
   "metadata": {},
   "source": [
    "### 1. Model Performance Summary\n",
    "The trained CNN model achieved the following results:\n",
    "\n",
    "- **Final Training Accuracy:** 93.02%\n",
    "- **Final Validation Accuracy:** 94.44%\n",
    "- **Final Test Accuracy:** 94.45%\n",
    "- **Final Loss:** 0.1749\n",
    "\n",
    "These results indicate that the model performed well, exceeding the **90% accuracy requirement** specified in the grading rubric. The **loss continuously decreased**, suggesting that the model successfully learned the features of the TMNIST dataset."
   ]
  },
  {
   "cell_type": "markdown",
   "id": "cae5beef-acba-4377-8025-75976f2ea130",
   "metadata": {},
   "source": [
    "### 2. Model Architecture Review\n",
    "The model structure consisted of:\n",
    "\n",
    "- **2 Convolutional Layers** (Extracted features like edges and curves).\n",
    "- **Batch Normalization** (Stabilized learning by normalizing activations).\n",
    "- **MaxPooling Layers** (Reduced spatial dimensions for computational efficiency).\n",
    "- **Dropout Layers** (Prevented overfitting by randomly deactivating neurons).\n",
    "- **Dense Layers** (Learned high-level patterns and mapped them to 94 character classes).\n",
    "\n",
    "The total number of **trainable parameters** was **453,534**, which is relatively efficient given the complexity of the dataset.\n",
    "\n",
    "\n",
    "\n",
    "\n",
    "\n",
    "\n"
   ]
  },
  {
   "cell_type": "markdown",
   "id": "a6354a95-3514-4759-a68f-3822bf8a1439",
   "metadata": {},
   "source": [
    "### 3. Training Analysis"
   ]
  },
  {
   "cell_type": "markdown",
   "id": "68b31e8e-56fd-415f-8f0e-ebd6697a7b5f",
   "metadata": {},
   "source": [
    "The accuracy and loss trends over 20 epochs show steady improvement:\n",
    "\n",
    "Rapid improvement in accuracy in the first few epochs (from 72.07% to ~90% in 2 epochs).\n",
    "Smooth and stable learning curve, with validation accuracy closely following training accuracy.\n",
    "Minimal overfitting due to the use of Batch Normalization and Dropout layers."
   ]
  },
  {
   "cell_type": "code",
   "execution_count": 90,
   "id": "45cac2c3-0442-4738-8e91-d65a44f198df",
   "metadata": {},
   "outputs": [
    {
     "data": {
      "image/png": "[encoded data removed]",
      "text/plain": [
       "<Figure size 1200x500 with 2 Axes>"
      ]
     },
     "metadata": {},
     "output_type": "display_data"
    }
   ],
   "source": [
    "import matplotlib.pyplot as plt\n",
    "\n",
    "# Plot training history\n",
    "plt.figure(figsize=(12,5))\n",
    "\n",
    "# Loss Plot\n",
    "plt.subplot(1,2,1)\n",
    "plt.plot(history.history['loss'], label='Train Loss')\n",
    "plt.plot(history.history['val_loss'], label='Validation Loss')\n",
    "plt.legend()\n",
    "plt.title('Loss over Epochs')\n",
    "\n",
    "# Accuracy Plot\n",
    "plt.subplot(1,2,2)\n",
    "plt.plot(history.history['accuracy'], label='Train Accuracy')\n",
    "plt.plot(history.history['val_accuracy'], label='Validation Accuracy')\n",
    "plt.legend()\n",
    "plt.title('Accuracy over Epochs')\n",
    "\n",
    "plt.show()\n"
   ]
  },
  {
   "cell_type": "markdown",
   "id": "aaa8b33e-c92c-43ed-ac2e-461d0fa955f8",
   "metadata": {},
   "source": [
    "### 4. Testing the Model with Predictions\n",
    "\n",
    "To further evaluate the model’s performance, we will make predictions on a few test samples and compare them with the actual labels.\n",
    "\n",
    "- We randomly select a few images from the test set.\n",
    "- The model predicts the character class.\n",
    "- The predicted labels are compared with the actual labels.\n",
    "\n",
    "The goal is to visually inspect how well the model generalizes to unseen data.\n"
   ]
  },
  {
   "cell_type": "code",
   "execution_count": 94,
   "id": "2a1844e1-963d-4fb1-bdbb-42054e8b088a",
   "metadata": {},
   "outputs": [
    {
     "name": "stdout",
     "output_type": "stream",
     "text": [
      "\u001b[1m1/1\u001b[0m \u001b[32m━━━━━━━━━━━━━━━━━━━━\u001b[0m\u001b[37m\u001b[0m \u001b[1m0s\u001b[0m 93ms/step\n"
     ]
    },
    {
     "data": {
      "image/png": "[encoded data removed]",
      "text/plain": [
       "<Figure size 1200x600 with 10 Axes>"
      ]
     },
     "metadata": {},
     "output_type": "display_data"
    }
   ],
   "source": [
    "import random\n",
    "\n",
    "# Select random samples from the test set\n",
    "num_samples = 10\n",
    "indices = random.sample(range(len(X_test)), num_samples)\n",
    "sample_images = X_test[indices]\n",
    "sample_labels = np.argmax(y_test[indices], axis=1)  # Convert one-hot to label indices\n",
    "\n",
    "# Make predictions\n",
    "predictions = model.predict(sample_images)\n",
    "predicted_labels = np.argmax(predictions, axis=1)  # Convert softmax output to label index\n",
    "\n",
    "# Plot the results\n",
    "fig, axes = plt.subplots(2, 5, figsize=(12, 6))\n",
    "axes = axes.flatten()\n",
    "\n",
    "for i in range(num_samples):\n",
    "    axes[i].imshow(sample_images[i].reshape(28, 28), cmap='gray')\n",
    "    axes[i].set_title(f\"Actual: {label_encoder.inverse_transform([sample_labels[i]])[0]}\\nPredicted: {label_encoder.inverse_transform([predicted_labels[i]])[0]}\")\n",
    "    axes[i].axis('off')\n",
    "\n",
    "plt.tight_layout()\n",
    "plt.show()\n"
   ]
  },
  {
   "cell_type": "markdown",
   "id": "6b03b382-54a8-4b43-8a32-857235d488cd",
   "metadata": {},
   "source": [
    "#### **Observations**\n",
    "- If most predictions match the actual labels, the model is generalizing well.\n",
    "- Any **misclassifications** may indicate areas for improvement, such as using more complex architectures or additional training data.\n",
    "- This step provides an **intuitive verification** of model performance beyond numerical accuracy metrics.\n"
   ]
  },
  {
   "cell_type": "markdown",
   "id": "e3311c94-3576-49d7-b776-bb66b38776f4",
   "metadata": {},
   "source": [
    "---"
   ]
  },
  {
   "cell_type": "markdown",
   "id": "62030f2e-2093-4eab-9438-f8c0c0329af7",
   "metadata": {},
   "source": [
    "# Conclusion"
   ]
  },
  {
   "cell_type": "markdown",
   "id": "72f65091-fa90-4047-85a8-8602d9a3b9f6",
   "metadata": {},
   "source": [
    "✅ **The CNN model successfully classified handwritten TMNIST characters with an accuracy of 94.45%, meeting the assignment criteria.**  \n",
    "✅ **The training process showed stable convergence, with validation accuracy closely tracking training accuracy, indicating minimal overfitting.**  \n",
    "✅ **Hyperparameter tuning (e.g., dropout, batch normalization) improved generalization, making the model robust for unseen character samples.**  \n",
    "\n",
    "---\n",
    "\n",
    "### **Future Improvements**\n",
    "🚀 **Data Augmentation:** Applying random rotations, shifts, and noise to the images could further improve robustness.  \n",
    "🚀 **Additional Layers:** Increasing the depth of the model could allow learning more complex features.  \n",
    "🚀 **Transfer Learning:** Pretrained architectures like ResNet or EfficientNet could be explored for higher accuracy.  \n",
    "\n",
    "---\n",
    "\n",
    "This notebook serves as a **step-by-step guide** for TMNIST classification using CNNs and can be extended to real-world **OCR applications**.\n"
   ]
  }
 ],
 "metadata": {
  "kernelspec": {
   "display_name": "Python 3 (ipykernel)",
   "language": "python",
   "name": "python3"
  },
  "language_info": {
   "codemirror_mode": {
    "name": "ipython",
    "version": 3
   },
   "file_extension": ".py",
   "mimetype": "text/x-python",
   "name": "python",
   "nbconvert_exporter": "python",
   "pygments_lexer": "ipython3",
   "version": "3.12.7"
  }
 },
 "nbformat": 4,
 "nbformat_minor": 5
}
